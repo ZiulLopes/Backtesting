{
 "cells": [
  {
   "cell_type": "code",
   "execution_count": 13,
   "metadata": {},
   "outputs": [],
   "source": [
    "import pandas as pd\n",
    "import yfinance as yf"
   ]
  },
  {
   "cell_type": "code",
   "execution_count": 11,
   "metadata": {},
   "outputs": [
    {
     "name": "stdout",
     "output_type": "stream",
     "text": [
      "                     Date   Open   High    Low  Close  Volume\n",
      "0     2020-02-07 17:45:00  33.84  33.86  33.67  33.71  1970.0\n",
      "1     2020-02-07 17:30:00  33.85  33.86  33.77  33.84  3194.0\n",
      "2     2020-02-07 17:15:00  33.82  33.89  33.75  33.83  2319.0\n",
      "3     2020-02-07 17:00:00  33.71  33.87  33.68  33.81  2702.0\n",
      "4     2020-02-07 16:45:00  33.67  33.71  33.63  33.71  1556.0\n",
      "...                   ...    ...    ...    ...    ...     ...\n",
      "4995  2019-06-05 16:30:00  33.42  33.52  33.36  33.51  1396.0\n",
      "4996  2019-06-05 16:15:00  33.50  33.52  33.37  33.42  1326.0\n",
      "4997  2019-06-05 16:00:00  33.60  33.61  33.44  33.50   999.0\n",
      "4998  2019-06-05 15:45:00  33.59  33.64  33.56  33.60   722.0\n",
      "4999  2019-06-05 15:30:00  33.57  33.65  33.53  33.59   801.0\n",
      "\n",
      "[5000 rows x 6 columns]\n"
     ]
    }
   ],
   "source": [
    "datapath = 'datasets/ITUB4.M15.csv'\n",
    "df = pd.read_csv(datapath)\n",
    "print(df)"
   ]
  },
  {
   "cell_type": "code",
   "execution_count": 19,
   "metadata": {},
   "outputs": [
    {
     "name": "stdout",
     "output_type": "stream",
     "text": [
      "[*********************100%***********************]  1 of 1 completed\n",
      "                 Open       High        Low      Close  Adj Close    Volume\n",
      "Date                                                                       \n",
      "2020-02-03  33.000000  33.310001  32.790001  32.900002  32.900002  17586000\n",
      "2020-02-04  33.360001  33.459999  32.900002  33.160000  33.160000  15730300\n",
      "2020-02-05  33.709999  34.119999  33.360001  33.360001  33.360001  34791900\n",
      "2020-02-06  33.700001  33.740002  33.110001  33.279999  33.279999  26487800\n",
      "2020-02-07  33.049999  34.150002  33.000000  33.750000  33.750000  20875000\n"
     ]
    }
   ],
   "source": [
    "data = yf.download(\"ITUB4.SA\", start=\"2020-02-01\", end=\"2020-02-09\")\n",
    "print(data)"
   ]
  }
 ],
 "metadata": {
  "kernelspec": {
   "display_name": "Python 3",
   "language": "python",
   "name": "python3"
  },
  "language_info": {
   "codemirror_mode": {
    "name": "ipython",
    "version": 3
   },
   "file_extension": ".py",
   "mimetype": "text/x-python",
   "name": "python",
   "nbconvert_exporter": "python",
   "pygments_lexer": "ipython3",
   "version": "3.6.8"
  }
 },
 "nbformat": 4,
 "nbformat_minor": 4
}
